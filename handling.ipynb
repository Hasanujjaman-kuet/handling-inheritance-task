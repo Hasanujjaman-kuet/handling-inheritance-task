{
 "cells": [
  {
   "cell_type": "markdown",
   "metadata": {},
   "source": [
    "# Exception"
   ]
  },
  {
   "cell_type": "code",
   "execution_count": 2,
   "metadata": {},
   "outputs": [
    {
     "ename": "ZeroDivisionError",
     "evalue": "division by zero",
     "output_type": "error",
     "traceback": [
      "\u001b[1;31m---------------------------------------------------------------------------\u001b[0m",
      "\u001b[1;31mZeroDivisionError\u001b[0m                         Traceback (most recent call last)",
      "\u001b[1;32md:\\Python\\Professional\\Machine-Learning\\MLDS1018\\6_ExceptionHandling\\handling.ipynb Cell 2\u001b[0m in \u001b[0;36m<cell line: 3>\u001b[1;34m()\u001b[0m\n\u001b[0;32m      <a href='vscode-notebook-cell:/d%3A/Python/Professional/Machine-Learning/MLDS1018/6_ExceptionHandling/handling.ipynb#ch0000000?line=0'>1</a>\u001b[0m dividend \u001b[39m=\u001b[39m \u001b[39m56\u001b[39m\n\u001b[0;32m      <a href='vscode-notebook-cell:/d%3A/Python/Professional/Machine-Learning/MLDS1018/6_ExceptionHandling/handling.ipynb#ch0000000?line=1'>2</a>\u001b[0m divisor \u001b[39m=\u001b[39m \u001b[39m0\u001b[39m\n\u001b[1;32m----> <a href='vscode-notebook-cell:/d%3A/Python/Professional/Machine-Learning/MLDS1018/6_ExceptionHandling/handling.ipynb#ch0000000?line=2'>3</a>\u001b[0m r \u001b[39m=\u001b[39m dividend\u001b[39m/\u001b[39;49mdivisor\n\u001b[0;32m      <a href='vscode-notebook-cell:/d%3A/Python/Professional/Machine-Learning/MLDS1018/6_ExceptionHandling/handling.ipynb#ch0000000?line=4'>5</a>\u001b[0m \u001b[39mprint\u001b[39m(\u001b[39m'\u001b[39m\u001b[39mWelcome\u001b[39m\u001b[39m'\u001b[39m)\n",
      "\u001b[1;31mZeroDivisionError\u001b[0m: division by zero"
     ]
    }
   ],
   "source": [
    "dividend = 56\n",
    "divisor = 0\n",
    "r = dividend/divisor\n",
    "\n",
    "print('Welcome')"
   ]
  },
  {
   "cell_type": "markdown",
   "metadata": {},
   "source": [
    "# Exception Handling with try and except"
   ]
  },
  {
   "cell_type": "code",
   "execution_count": 11,
   "metadata": {},
   "outputs": [
    {
     "name": "stdout",
     "output_type": "stream",
     "text": [
      "Solving... division by zero\n",
      "Welcome\n"
     ]
    }
   ],
   "source": [
    "dividend = 56\n",
    "divisor = 0\n",
    "\n",
    "try:\n",
    "    r = dividend/divisor\n",
    "except Exception as e:\n",
    "    print(e)\n",
    "\n",
    "print('Welcome')"
   ]
  },
  {
   "cell_type": "markdown",
   "metadata": {},
   "source": [
    "# Multiple exception Handling with Specific Exception"
   ]
  },
  {
   "cell_type": "code",
   "execution_count": 12,
   "metadata": {},
   "outputs": [
    {
     "name": "stdout",
     "output_type": "stream",
     "text": [
      "Solving... division by zero\n",
      "Welcome\n"
     ]
    }
   ],
   "source": [
    "dividend = 56\n",
    "divisor = 0\n",
    "\n",
    "try:\n",
    "    r = dividend/divisor\n",
    "except ZeroDivisionError as z:\n",
    "    print('Solving...', z)\n",
    "except TypeError as t:\n",
    "    print('Solving...', t)\n",
    "print('Welcome')"
   ]
  },
  {
   "cell_type": "markdown",
   "metadata": {},
   "source": [
    "# Finally Block"
   ]
  },
  {
   "cell_type": "code",
   "execution_count": 14,
   "metadata": {},
   "outputs": [
    {
     "name": "stdout",
     "output_type": "stream",
     "text": [
      "Operation Closed\n",
      "Welcome\n"
     ]
    }
   ],
   "source": [
    "dividend = 56\n",
    "divisor = 2\n",
    "\n",
    "try:\n",
    "    r = dividend/divisor\n",
    "except ZeroDivisionError as z:\n",
    "    print('Solving...', z)\n",
    "except TypeError as t:\n",
    "    print('Solving...', t)\n",
    "finally:\n",
    "    print(\"Operation Closed\")\n",
    "print('Welcome')"
   ]
  },
  {
   "cell_type": "markdown",
   "metadata": {},
   "source": [
    "# with else"
   ]
  },
  {
   "cell_type": "code",
   "execution_count": 17,
   "metadata": {},
   "outputs": [
    {
     "name": "stdout",
     "output_type": "stream",
     "text": [
      "No Exception\n",
      "Welcome\n"
     ]
    }
   ],
   "source": [
    "dividend = 56\n",
    "divisor = 2\n",
    "\n",
    "try:\n",
    "    r = dividend/divisor\n",
    "except ZeroDivisionError as z:\n",
    "    print('Solving...', z)\n",
    "except TypeError as t:\n",
    "    print('Solving...', t)\n",
    "else:\n",
    "    print(\"No Exception\")\n",
    "print('Welcome')"
   ]
  },
  {
   "cell_type": "markdown",
   "metadata": {},
   "source": [
    "# Custom Exception"
   ]
  },
  {
   "cell_type": "code",
   "execution_count": 20,
   "metadata": {},
   "outputs": [
    {
     "ename": "Exception",
     "evalue": "ValidationError: Invalid age!",
     "output_type": "error",
     "traceback": [
      "\u001b[1;31m---------------------------------------------------------------------------\u001b[0m",
      "\u001b[1;31mException\u001b[0m                                 Traceback (most recent call last)",
      "\u001b[1;32md:\\Python\\Professional\\Machine-Learning\\MLDS1018\\6_ExceptionHandling\\handling.ipynb Cell 12\u001b[0m in \u001b[0;36m<cell line: 2>\u001b[1;34m()\u001b[0m\n\u001b[0;32m      <a href='vscode-notebook-cell:/d%3A/Python/Professional/Machine-Learning/MLDS1018/6_ExceptionHandling/handling.ipynb#ch0000013?line=0'>1</a>\u001b[0m age \u001b[39m=\u001b[39m \u001b[39m15\u001b[39m\n\u001b[0;32m      <a href='vscode-notebook-cell:/d%3A/Python/Professional/Machine-Learning/MLDS1018/6_ExceptionHandling/handling.ipynb#ch0000013?line=1'>2</a>\u001b[0m \u001b[39mif\u001b[39;00m age\u001b[39m<\u001b[39m\u001b[39m18\u001b[39m:\n\u001b[1;32m----> <a href='vscode-notebook-cell:/d%3A/Python/Professional/Machine-Learning/MLDS1018/6_ExceptionHandling/handling.ipynb#ch0000013?line=2'>3</a>\u001b[0m     \u001b[39mraise\u001b[39;00m \u001b[39mException\u001b[39;00m(\u001b[39m\"\u001b[39m\u001b[39mValidationError: Invalid age!\u001b[39m\u001b[39m\"\u001b[39m)\n",
      "\u001b[1;31mException\u001b[0m: ValidationError: Invalid age!"
     ]
    }
   ],
   "source": [
    "age = 15\n",
    "if age<18:\n",
    "    raise Exception(\"ValidationError: Invalid age!\")"
   ]
  },
  {
   "cell_type": "code",
   "execution_count": 30,
   "metadata": {},
   "outputs": [],
   "source": [
    "class ValidationError(Exception):\n",
    "    pass"
   ]
  },
  {
   "cell_type": "code",
   "execution_count": 26,
   "metadata": {},
   "outputs": [
    {
     "ename": "ValidationError",
     "evalue": "Invalid age!",
     "output_type": "error",
     "traceback": [
      "\u001b[1;31m---------------------------------------------------------------------------\u001b[0m",
      "\u001b[1;31mValidationError\u001b[0m                           Traceback (most recent call last)",
      "\u001b[1;32md:\\Python\\Professional\\Machine-Learning\\MLDS1018\\6_ExceptionHandling\\handling.ipynb Cell 14\u001b[0m in \u001b[0;36m<cell line: 2>\u001b[1;34m()\u001b[0m\n\u001b[0;32m      <a href='vscode-notebook-cell:/d%3A/Python/Professional/Machine-Learning/MLDS1018/6_ExceptionHandling/handling.ipynb#ch0000012?line=0'>1</a>\u001b[0m age \u001b[39m=\u001b[39m \u001b[39m15\u001b[39m\n\u001b[0;32m      <a href='vscode-notebook-cell:/d%3A/Python/Professional/Machine-Learning/MLDS1018/6_ExceptionHandling/handling.ipynb#ch0000012?line=1'>2</a>\u001b[0m \u001b[39mif\u001b[39;00m age\u001b[39m<\u001b[39m\u001b[39m18\u001b[39m:\n\u001b[1;32m----> <a href='vscode-notebook-cell:/d%3A/Python/Professional/Machine-Learning/MLDS1018/6_ExceptionHandling/handling.ipynb#ch0000012?line=2'>3</a>\u001b[0m     \u001b[39mraise\u001b[39;00m ValidationError(\u001b[39m\"\u001b[39m\u001b[39mInvalid age!\u001b[39m\u001b[39m\"\u001b[39m)\n",
      "\u001b[1;31mValidationError\u001b[0m: Invalid age!"
     ]
    }
   ],
   "source": [
    "age = 15\n",
    "if age<18:\n",
    "    raise ValidationError(\"Invalid age!\")"
   ]
  },
  {
   "cell_type": "code",
   "execution_count": 32,
   "metadata": {},
   "outputs": [
    {
     "name": "stdout",
     "output_type": "stream",
     "text": [
      "Invalid age!\n"
     ]
    }
   ],
   "source": [
    "try:\n",
    "    age = 15\n",
    "    if age<18:\n",
    "        raise ValidationError(\"Invalid age!\")\n",
    "except ValidationError as v:\n",
    "    print(v)"
   ]
  },
  {
   "cell_type": "markdown",
   "metadata": {},
   "source": [
    "# Assertion Error"
   ]
  },
  {
   "cell_type": "code",
   "execution_count": 35,
   "metadata": {},
   "outputs": [],
   "source": [
    "age = 19\n",
    "assert age>=18, 'Invalid Age!'"
   ]
  },
  {
   "cell_type": "code",
   "execution_count": null,
   "metadata": {},
   "outputs": [],
   "source": []
  }
 ],
 "metadata": {
  "kernelspec": {
   "display_name": "Python 3.10.2 64-bit",
   "language": "python",
   "name": "python3"
  },
  "language_info": {
   "codemirror_mode": {
    "name": "ipython",
    "version": 3
   },
   "file_extension": ".py",
   "mimetype": "text/x-python",
   "name": "python",
   "nbconvert_exporter": "python",
   "pygments_lexer": "ipython3",
   "version": "3.10.2"
  },
  "orig_nbformat": 4,
  "vscode": {
   "interpreter": {
    "hash": "369f2c481f4da34e4445cda3fffd2e751bd1c4d706f27375911949ba6bb62e1c"
   }
  }
 },
 "nbformat": 4,
 "nbformat_minor": 2
}
