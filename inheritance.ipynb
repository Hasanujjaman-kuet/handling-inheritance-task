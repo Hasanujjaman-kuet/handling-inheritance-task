{
 "cells": [
  {
   "cell_type": "markdown",
   "metadata": {},
   "source": [
    "# Inheritance"
   ]
  },
  {
   "cell_type": "code",
   "execution_count": 1,
   "metadata": {},
   "outputs": [],
   "source": [
    "# Parent or Super or base Class\n",
    "class Product:\n",
    "    # Global or Class Features\n",
    "    platform = 'Amazon'\n",
    "\n",
    "    # Constructor\n",
    "    def __init__(self, title:str, price: float) -> None:\n",
    "        # instance or object based features\n",
    "        self.title = title\n",
    "        self.price = price\n",
    "        self.__secretcode = 4545435   # private feature    \n",
    "    \n",
    "    # Behaviours or methods\n",
    "    @property\n",
    "    def secretcode(self):      # getter method\n",
    "        return self.__secretcode\n",
    "\n",
    "    @secretcode.setter\n",
    "    def secretcode(self, new):    # setter\n",
    "        self.__secretcode = new\n",
    "\n",
    "    @secretcode.deleter\n",
    "    def secretcode(self):    # deleter\n",
    "        del self.__secretcode\n",
    "\n",
    "    def getDiscount(self):\n",
    "        return self.price - self.price *(10/100)\n",
    "    \n",
    "    def __repr__(self):\n",
    "        return f'Product(title={self.title}, price={self.price})'"
   ]
  },
  {
   "cell_type": "markdown",
   "metadata": {},
   "source": [
    "## Single Inheritance & Polymorphism"
   ]
  },
  {
   "cell_type": "code",
   "execution_count": 2,
   "metadata": {},
   "outputs": [],
   "source": [
    "# Child or Subclass or derived class\n",
    "class Cloth(Product):\n",
    "    # Constructor overriding - Runtime Polymorphism\n",
    "    def __init__(self, title:str, price: float, fabric: str):\n",
    "        self.fabric = fabric\n",
    "        super().__init__(title, price)\n",
    "    \n",
    "    # method overriding - Runtime Polymorphism\n",
    "    def getFabricType(self):\n",
    "        return self.fabric\n",
    "        \n",
    "    def __repr__(self):\n",
    "        return f'Cloth(title={self.title}, price={self.price}, fabric={self.fabric})'"
   ]
  },
  {
   "cell_type": "code",
   "execution_count": 3,
   "metadata": {},
   "outputs": [
    {
     "data": {
      "text/plain": [
       "Cloth(title=Nokia x30, price=120000.0, fabric=Cotton)"
      ]
     },
     "execution_count": 3,
     "metadata": {},
     "output_type": "execute_result"
    }
   ],
   "source": [
    "c1 = Cloth('Nokia x30', 120000.0, fabric='Cotton')\n",
    "c1"
   ]
  },
  {
   "cell_type": "code",
   "execution_count": 4,
   "metadata": {},
   "outputs": [
    {
     "data": {
      "text/plain": [
       "108000.0"
      ]
     },
     "execution_count": 4,
     "metadata": {},
     "output_type": "execute_result"
    }
   ],
   "source": [
    "c1.getDiscount()"
   ]
  },
  {
   "cell_type": "code",
   "execution_count": 5,
   "metadata": {},
   "outputs": [
    {
     "data": {
      "text/plain": [
       "'Cotton'"
      ]
     },
     "execution_count": 5,
     "metadata": {},
     "output_type": "execute_result"
    }
   ],
   "source": [
    "c1.fabric"
   ]
  },
  {
   "cell_type": "code",
   "execution_count": 6,
   "metadata": {},
   "outputs": [
    {
     "data": {
      "text/plain": [
       "'Cotton'"
      ]
     },
     "execution_count": 6,
     "metadata": {},
     "output_type": "execute_result"
    }
   ],
   "source": [
    "c1.getFabricType()"
   ]
  },
  {
   "cell_type": "markdown",
   "metadata": {},
   "source": [
    "## Multilevel "
   ]
  },
  {
   "cell_type": "code",
   "execution_count": 7,
   "metadata": {},
   "outputs": [],
   "source": [
    "# topWear <- Coth <- Product\n",
    "class topWear(Cloth):\n",
    "    pass"
   ]
  },
  {
   "cell_type": "code",
   "execution_count": 8,
   "metadata": {},
   "outputs": [
    {
     "data": {
      "text/plain": [
       "Cloth(title=T-Shirt, price=450.0, fabric=Pure Cotton)"
      ]
     },
     "execution_count": 8,
     "metadata": {},
     "output_type": "execute_result"
    }
   ],
   "source": [
    "t1 = topWear('T-Shirt', 450.0, 'Pure Cotton')\n",
    "t1"
   ]
  },
  {
   "cell_type": "code",
   "execution_count": 9,
   "metadata": {},
   "outputs": [
    {
     "data": {
      "text/plain": [
       "'Amazon'"
      ]
     },
     "execution_count": 9,
     "metadata": {},
     "output_type": "execute_result"
    }
   ],
   "source": [
    "t1.platform"
   ]
  },
  {
   "cell_type": "markdown",
   "metadata": {},
   "source": [
    "# Multiple Inheritance"
   ]
  },
  {
   "cell_type": "code",
   "execution_count": 10,
   "metadata": {},
   "outputs": [],
   "source": [
    "class Seller:\n",
    "    def __init__(self, sid: int, sname: str):\n",
    "        self.sname = sname\n",
    "        self.sid = sid\n",
    "        self.__scode = 646\n",
    "\n",
    "    def getScode(self):\n",
    "        return self.__scode\n",
    "\n",
    "    def __repr__(self):\n",
    "        return f'Seller(sid={self.sid}, sname={self.sname})'\n"
   ]
  },
  {
   "cell_type": "code",
   "execution_count": 11,
   "metadata": {},
   "outputs": [],
   "source": [
    "class topWear(Cloth, Seller):\n",
    "     # Constructor overriding - Runtime Polymorphism\n",
    "    def __init__(self, title:str, price: float, fabric: str, sid, sname):\n",
    "        Cloth.__init__(self, title, price, fabric)\n",
    "        Seller.__init__(self, sid, sname)\n",
    "    \n",
    "    # method overriding - Runtime Polymorphism\n",
    "    def sellerInfo(self):\n",
    "        return Seller.__repr__(self), Seller.getScode(self)\n",
    "        \n",
    "    def __repr__(self):\n",
    "        return f'Cloth(title={self.title}, price={self.price}, fabric={self.fabric})'"
   ]
  },
  {
   "cell_type": "code",
   "execution_count": 12,
   "metadata": {},
   "outputs": [
    {
     "data": {
      "text/plain": [
       "Cloth(title=T-Shirt, price=450.0, fabric=Pure Cotton)"
      ]
     },
     "execution_count": 12,
     "metadata": {},
     "output_type": "execute_result"
    }
   ],
   "source": [
    "t1 = topWear('T-Shirt', 450.0, 'Pure Cotton', 33, 'Hardin Scott')\n",
    "t1"
   ]
  },
  {
   "cell_type": "code",
   "execution_count": 13,
   "metadata": {},
   "outputs": [
    {
     "data": {
      "text/plain": [
       "'Hardin Scott'"
      ]
     },
     "execution_count": 13,
     "metadata": {},
     "output_type": "execute_result"
    }
   ],
   "source": [
    "t1.sname"
   ]
  },
  {
   "cell_type": "code",
   "execution_count": 14,
   "metadata": {},
   "outputs": [
    {
     "data": {
      "text/plain": [
       "('Seller(sid=33, sname=Hardin Scott)', 646)"
      ]
     },
     "execution_count": 14,
     "metadata": {},
     "output_type": "execute_result"
    }
   ],
   "source": [
    "t1.sellerInfo()"
   ]
  },
  {
   "cell_type": "markdown",
   "metadata": {},
   "source": [
    "# Stop Inheritance"
   ]
  },
  {
   "cell_type": "code",
   "execution_count": 25,
   "metadata": {},
   "outputs": [],
   "source": [
    "class Meta(type):\n",
    "    def __new__(cls, name, bases, classdict):\n",
    "        for base in bases:\n",
    "            if isinstance(base, Meta):\n",
    "                raise TypeError(f'Cannot Inherit class {Cloth.__name__}')\n",
    "            return type.__new__(cls, name, bases, classdict)"
   ]
  },
  {
   "cell_type": "code",
   "execution_count": 23,
   "metadata": {},
   "outputs": [],
   "source": [
    "# Child or Subclass or derived class\n",
    "class Cloth(Product, metaclass=Meta):\n",
    "    # Constructor overriding - Runtime Polymorphism\n",
    "    def __init__(self, title:str, price: float, fabric: str):\n",
    "        self.fabric = fabric\n",
    "        super().__init__(title, price)\n",
    "    \n",
    "    # def __init_subclass__(cls, **kwargs):\n",
    "    #     if cls is not Final:\n",
    "    #         raise TypeError(f'Cannot Inherit class {Cloth.__name__}')\n",
    "    #     super().__init_subclass__(cls, **kwargs)\n",
    "\n",
    "    # method overriding - Runtime Polymorphism\n",
    "    def getFabricType(self):\n",
    "        return self.fabric\n",
    "        \n",
    "    def __repr__(self):\n",
    "        return f'Cloth(title={self.title}, price={self.price}, fabric={self.fabric})'"
   ]
  },
  {
   "cell_type": "code",
   "execution_count": 26,
   "metadata": {},
   "outputs": [],
   "source": [
    "# Child or Subclass or derived class\n",
    "class Cloth(Product):\n",
    "    # Constructor overriding - Runtime Polymorphism\n",
    "    def __init__(self, title:str, price: float, fabric: str):\n",
    "        self.fabric = fabric\n",
    "        super().__init__(title, price)\n",
    "    \n",
    "    def __init_subclass__(cls, **kwargs):\n",
    "        if cls is not Meta:\n",
    "            raise TypeError(f'Cannot Inherit class {Cloth.__name__}')\n",
    "        super().__init_subclass__(cls, **kwargs)\n",
    "\n",
    "    # method overriding - Runtime Polymorphism\n",
    "    def getFabricType(self):\n",
    "        return self.fabric\n",
    "        \n",
    "    def __repr__(self):\n",
    "        return f'Cloth(title={self.title}, price={self.price}, fabric={self.fabric})'"
   ]
  },
  {
   "cell_type": "code",
   "execution_count": 27,
   "metadata": {},
   "outputs": [
    {
     "ename": "TypeError",
     "evalue": "Cannot Inherit class Cloth",
     "output_type": "error",
     "traceback": [
      "\u001b[1;31m---------------------------------------------------------------------------\u001b[0m",
      "\u001b[1;31mTypeError\u001b[0m                                 Traceback (most recent call last)",
      "\u001b[1;32md:\\Python\\Professional\\Machine-Learning\\MLDS1018\\3_OOP\\inheritance.ipynb Cell 23\u001b[0m in \u001b[0;36m<cell line: 1>\u001b[1;34m()\u001b[0m\n\u001b[1;32m----> <a href='vscode-notebook-cell:/d%3A/Python/Professional/Machine-Learning/MLDS1018/3_OOP/inheritance.ipynb#ch0000020?line=0'>1</a>\u001b[0m \u001b[39mclass\u001b[39;00m \u001b[39mtopWear\u001b[39;00m(Cloth):\n\u001b[0;32m      <a href='vscode-notebook-cell:/d%3A/Python/Professional/Machine-Learning/MLDS1018/3_OOP/inheritance.ipynb#ch0000020?line=1'>2</a>\u001b[0m      \u001b[39m# Constructor overriding - Runtime Polymorphism\u001b[39;00m\n\u001b[0;32m      <a href='vscode-notebook-cell:/d%3A/Python/Professional/Machine-Learning/MLDS1018/3_OOP/inheritance.ipynb#ch0000020?line=2'>3</a>\u001b[0m     \u001b[39mdef\u001b[39;00m \u001b[39m__init__\u001b[39m(\u001b[39mself\u001b[39m, title:\u001b[39mstr\u001b[39m, price: \u001b[39mfloat\u001b[39m, fabric: \u001b[39mstr\u001b[39m, sid, sname):\n\u001b[0;32m      <a href='vscode-notebook-cell:/d%3A/Python/Professional/Machine-Learning/MLDS1018/3_OOP/inheritance.ipynb#ch0000020?line=3'>4</a>\u001b[0m         \u001b[39msuper\u001b[39m()\u001b[39m.\u001b[39m\u001b[39m__init__\u001b[39m(\u001b[39mself\u001b[39m, title, price, fabric)\n",
      "\u001b[1;32md:\\Python\\Professional\\Machine-Learning\\MLDS1018\\3_OOP\\inheritance.ipynb Cell 23\u001b[0m in \u001b[0;36mCloth.__init_subclass__\u001b[1;34m(cls, **kwargs)\u001b[0m\n\u001b[0;32m      <a href='vscode-notebook-cell:/d%3A/Python/Professional/Machine-Learning/MLDS1018/3_OOP/inheritance.ipynb#ch0000020?line=7'>8</a>\u001b[0m \u001b[39mdef\u001b[39;00m \u001b[39m__init_subclass__\u001b[39m(\u001b[39mcls\u001b[39m, \u001b[39m*\u001b[39m\u001b[39m*\u001b[39mkwargs):\n\u001b[0;32m      <a href='vscode-notebook-cell:/d%3A/Python/Professional/Machine-Learning/MLDS1018/3_OOP/inheritance.ipynb#ch0000020?line=8'>9</a>\u001b[0m     \u001b[39mif\u001b[39;00m \u001b[39mcls\u001b[39m \u001b[39mis\u001b[39;00m \u001b[39mnot\u001b[39;00m Meta:\n\u001b[1;32m---> <a href='vscode-notebook-cell:/d%3A/Python/Professional/Machine-Learning/MLDS1018/3_OOP/inheritance.ipynb#ch0000020?line=9'>10</a>\u001b[0m         \u001b[39mraise\u001b[39;00m \u001b[39mTypeError\u001b[39;00m(\u001b[39mf\u001b[39m\u001b[39m'\u001b[39m\u001b[39mCannot Inherit class \u001b[39m\u001b[39m{\u001b[39;00mCloth\u001b[39m.\u001b[39m\u001b[39m__name__\u001b[39m\u001b[39m}\u001b[39;00m\u001b[39m'\u001b[39m)\n\u001b[0;32m     <a href='vscode-notebook-cell:/d%3A/Python/Professional/Machine-Learning/MLDS1018/3_OOP/inheritance.ipynb#ch0000020?line=10'>11</a>\u001b[0m     \u001b[39msuper\u001b[39m()\u001b[39m.\u001b[39m__init_subclass__(\u001b[39mcls\u001b[39m, \u001b[39m*\u001b[39m\u001b[39m*\u001b[39mkwargs)\n",
      "\u001b[1;31mTypeError\u001b[0m: Cannot Inherit class Cloth"
     ]
    }
   ],
   "source": [
    "class topWear(Cloth):\n",
    "     # Constructor overriding - Runtime Polymorphism\n",
    "    def __init__(self, title:str, price: float, fabric: str, sid, sname):\n",
    "        super().__init__(self, title, price, fabric)\n",
    "        \n",
    "    def __repr__(self):\n",
    "        return f'Cloth(title={self.title}, price={self.price}, fabric={self.fabric})'"
   ]
  },
  {
   "cell_type": "code",
   "execution_count": null,
   "metadata": {},
   "outputs": [],
   "source": []
  }
 ],
 "metadata": {
  "kernelspec": {
   "display_name": "Python 3.10.2 64-bit",
   "language": "python",
   "name": "python3"
  },
  "language_info": {
   "codemirror_mode": {
    "name": "ipython",
    "version": 3
   },
   "file_extension": ".py",
   "mimetype": "text/x-python",
   "name": "python",
   "nbconvert_exporter": "python",
   "pygments_lexer": "ipython3",
   "version": "3.10.2"
  },
  "orig_nbformat": 4,
  "vscode": {
   "interpreter": {
    "hash": "369f2c481f4da34e4445cda3fffd2e751bd1c4d706f27375911949ba6bb62e1c"
   }
  }
 },
 "nbformat": 4,
 "nbformat_minor": 2
}
